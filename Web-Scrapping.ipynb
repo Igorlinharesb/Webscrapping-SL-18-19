{
 "cells": [
  {
   "cell_type": "markdown",
   "metadata": {},
   "source": [
    "# Web Scrapping estatísticas superliga feminina 2018-2019"
   ]
  },
  {
   "cell_type": "code",
   "execution_count": 6,
   "metadata": {},
   "outputs": [],
   "source": [
    "# Importando os pacotes necessários\n",
    "from urllib import request\n",
    "from bs4 import BeautifulSoup"
   ]
  },
  {
   "cell_type": "code",
   "execution_count": 2,
   "metadata": {},
   "outputs": [],
   "source": [
    "with request.urlopen('http://cbv-web.dataproject.com/CompetitionMatches.aspx?ID=6') as url:\n",
    "    page = url.read()\n",
    "    \n",
    "soup = BeautifulSoup(page, 'html.parser')"
   ]
  },
  {
   "cell_type": "code",
   "execution_count": 25,
   "metadata": {},
   "outputs": [],
   "source": [
    "soup = BeautifulSoup(page, 'html.parser')"
   ]
  },
  {
   "cell_type": "code",
   "execution_count": 68,
   "metadata": {
    "scrolled": true
   },
   "outputs": [
    {
     "data": {
      "text/plain": [
       "<title>\n",
       "\tCompetition Site by Data Project\n",
       "</title>"
      ]
     },
     "execution_count": 68,
     "metadata": {},
     "output_type": "execute_result"
    }
   ],
   "source": [
    "soup.title"
   ]
  },
  {
   "cell_type": "markdown",
   "metadata": {},
   "source": [
    "### Coletando dados de data e local"
   ]
  },
  {
   "cell_type": "code",
   "execution_count": 69,
   "metadata": {},
   "outputs": [],
   "source": [
    "rows_data_local = soup.find_all('div', class_=\"t-col t-col-2 t-col-xs-3 t-col-sm-3 t-hidden-xs t-hidden-sm t-hidden-md Calendar_DIV_Column\")"
   ]
  },
  {
   "cell_type": "code",
   "execution_count": 70,
   "metadata": {},
   "outputs": [
    {
     "data": {
      "text/plain": [
       "153"
      ]
     },
     "execution_count": 70,
     "metadata": {},
     "output_type": "execute_result"
    }
   ],
   "source": [
    "len(rows_data_local)"
   ]
  },
  {
   "cell_type": "code",
   "execution_count": 71,
   "metadata": {},
   "outputs": [
    {
     "data": {
      "text/plain": [
       "[<span id=\"ctl00_Content_Main_11_userControl_RADLIST_Legs_ctrl0_RADLIST_Matches_ctrl4_LB_DataOra\">18/01/2019 - 19:30</span>,\n",
       " <span id=\"ctl00_Content_Main_11_userControl_RADLIST_Legs_ctrl0_RADLIST_Matches_ctrl4_LB_Palasport\">GINASIO MUNICIPAL JOSE LIBERATTI</span>]"
      ]
     },
     "execution_count": 71,
     "metadata": {},
     "output_type": "execute_result"
    }
   ],
   "source": [
    "teste = rows_data_local[2]\n",
    "teste.find_all('span')"
   ]
  },
  {
   "cell_type": "code",
   "execution_count": 72,
   "metadata": {},
   "outputs": [],
   "source": [
    "texto = teste.find_all('span')"
   ]
  },
  {
   "cell_type": "code",
   "execution_count": 73,
   "metadata": {},
   "outputs": [
    {
     "name": "stdout",
     "output_type": "stream",
     "text": [
      "18/01/2019 - 19:30 em GINASIO MUNICIPAL JOSE LIBERATTI\n"
     ]
    }
   ],
   "source": [
    "print(texto[0].string+' em '+texto[1].string)"
   ]
  },
  {
   "cell_type": "markdown",
   "metadata": {},
   "source": [
    "### Coletando ID do jogo"
   ]
  },
  {
   "cell_type": "code",
   "execution_count": 175,
   "metadata": {},
   "outputs": [],
   "source": [
    "ids = []\n",
    "\n",
    "for row in rows_data_local:\n",
    "    result = row.find_all('p', class_='Calendar_p_TextRow Calendar_p_TextRow_Italic')\n",
    "    id_jogo = str(result[0]).split('MatchStatistics.aspx?mID=')[1].split('&')[0]\n",
    "    ids.append(int(id_jogo))"
   ]
  },
  {
   "cell_type": "markdown",
   "metadata": {},
   "source": [
    "### Coletando jogo"
   ]
  },
  {
   "cell_type": "code",
   "execution_count": 74,
   "metadata": {},
   "outputs": [],
   "source": [
    "rows_times = soup.find_all('div', class_=\"t-col t-col-2 t-col-sm-3 t-col-md-2 t-hidden-xs Calendar_DIV_Column\")"
   ]
  },
  {
   "cell_type": "code",
   "execution_count": 87,
   "metadata": {},
   "outputs": [],
   "source": [
    "teste1 = rows_times[4]\n",
    "teste2 = rows_times[5]\n",
    "texto1 = teste1.find_all('span')\n",
    "texto2 = teste2.find_all('span')"
   ]
  },
  {
   "cell_type": "code",
   "execution_count": 88,
   "metadata": {},
   "outputs": [
    {
     "data": {
      "text/plain": [
       "[<span id=\"ctl00_Content_Main_11_userControl_RADLIST_Legs_ctrl0_RADLIST_Matches_ctrl4_Label4\">SAO CRISTOVAO SAUDE SAO CAETANO</span>]"
      ]
     },
     "execution_count": 88,
     "metadata": {},
     "output_type": "execute_result"
    }
   ],
   "source": [
    "texto2"
   ]
  },
  {
   "cell_type": "code",
   "execution_count": 89,
   "metadata": {},
   "outputs": [
    {
     "name": "stdout",
     "output_type": "stream",
     "text": [
      "OSASCO VOLEIBOL CLUBE/AUDAX x SAO CRISTOVAO SAUDE SAO CAETANO\n"
     ]
    }
   ],
   "source": [
    "print(texto1[0].string+' x '+texto2[0].string)"
   ]
  },
  {
   "cell_type": "markdown",
   "metadata": {},
   "source": [
    "### Placar"
   ]
  },
  {
   "cell_type": "code",
   "execution_count": 127,
   "metadata": {},
   "outputs": [],
   "source": [
    "rows_placar = soup.find_all('div', class_=\"t-col t-col-1 t-col-xs-4 t-col-sm-3 t-col-md-2 Calendar_DIV_Column\")"
   ]
  },
  {
   "cell_type": "code",
   "execution_count": 128,
   "metadata": {},
   "outputs": [
    {
     "data": {
      "text/plain": [
       "153"
      ]
     },
     "execution_count": 128,
     "metadata": {},
     "output_type": "execute_result"
    }
   ],
   "source": [
    "len(rows_placar)"
   ]
  },
  {
   "cell_type": "code",
   "execution_count": 129,
   "metadata": {
    "collapsed": true
   },
   "outputs": [
    {
     "data": {
      "text/plain": [
       "<div class=\"t-col t-col-1 t-col-xs-4 t-col-sm-3 t-col-md-2 Calendar_DIV_Column\">\n",
       "<p class=\"Calendar_p_TextRow\" onclick=\"javascript:window.location='MatchStatistics.aspx?mID=532&amp;ID=6&amp;CID=11&amp;PID=9&amp;type=LegList';\" style=\"font-size: 16px;\">\n",
       "<img border=\"0\" id=\"ctl00_Content_Main_11_userControl_RADLIST_Legs_ctrl0_RADLIST_Matches_ctrl0_Img2\" src=\"Images/spacer.gif\" width=\"12\"/>\n",
       "<span class=\"Calendar_Match_Result\" id=\"ctl00_Content_Main_11_userControl_RADLIST_Legs_ctrl0_RADLIST_Matches_ctrl0_LB_SetCasa\"><b>1</b></span>\n",
       "<span class=\"Calendar_Match_Result\" id=\"ctl00_Content_Main_11_userControl_RADLIST_Legs_ctrl0_RADLIST_Matches_ctrl0_LBL_Separ\"><b> - </b></span>\n",
       "<span class=\"Calendar_Match_Result\" id=\"ctl00_Content_Main_11_userControl_RADLIST_Legs_ctrl0_RADLIST_Matches_ctrl0_LB_SetOspiti\"><b>3</b></span>\n",
       "<img border=\"0\" id=\"ctl00_Content_Main_11_userControl_RADLIST_Legs_ctrl0_RADLIST_Matches_ctrl0_Img3\" src=\"Images/Spacer.gif\" width=\"12\"/>\n",
       "</p>\n",
       "</div>"
      ]
     },
     "execution_count": 129,
     "metadata": {},
     "output_type": "execute_result"
    }
   ],
   "source": [
    "ex = rows_placar[0]\n",
    "ex"
   ]
  },
  {
   "cell_type": "code",
   "execution_count": 137,
   "metadata": {},
   "outputs": [
    {
     "data": {
      "text/plain": [
       "[<span class=\"Calendar_Match_Result\" id=\"ctl00_Content_Main_11_userControl_RADLIST_Legs_ctrl0_RADLIST_Matches_ctrl0_LB_SetCasa\"><b>1</b></span>,\n",
       " <span class=\"Calendar_Match_Result\" id=\"ctl00_Content_Main_11_userControl_RADLIST_Legs_ctrl0_RADLIST_Matches_ctrl0_LBL_Separ\"><b> - </b></span>,\n",
       " <span class=\"Calendar_Match_Result\" id=\"ctl00_Content_Main_11_userControl_RADLIST_Legs_ctrl0_RADLIST_Matches_ctrl0_LB_SetOspiti\"><b>3</b></span>]"
      ]
     },
     "execution_count": 137,
     "metadata": {},
     "output_type": "execute_result"
    }
   ],
   "source": [
    "ex.find_all('span')"
   ]
  },
  {
   "cell_type": "markdown",
   "metadata": {},
   "source": [
    "### Juntando tudo:"
   ]
  },
  {
   "cell_type": "code",
   "execution_count": 101,
   "metadata": {},
   "outputs": [],
   "source": [
    "# Coletando todos as datas e locais e armazenando em listas\n",
    "\n",
    "datas = []\n",
    "local = []\n",
    "\n",
    "for row in rows_data_local:\n",
    "    result = row.find_all('span')\n",
    "    datas.append(result[0].string)\n",
    "    local.append(result[1].string)"
   ]
  },
  {
   "cell_type": "code",
   "execution_count": 114,
   "metadata": {},
   "outputs": [],
   "source": [
    "# Coletando os jogos \n",
    "mandante = []\n",
    "visitante = []\n",
    "\n",
    "for index in range(len(rows_times)):\n",
    "    time = rows_times[index].find_all('span')\n",
    "    if index%2 == 0:\n",
    "        mandante.append(time[0].string)\n",
    "    else:\n",
    "        visitante.append(time[0].string)\n",
    "    "
   ]
  },
  {
   "cell_type": "code",
   "execution_count": 182,
   "metadata": {},
   "outputs": [],
   "source": [
    "# Coletando os placares\n",
    "sets_mandante = []\n",
    "sets_visitante = []\n",
    "\n",
    "for row in rows_placar:\n",
    "    result = row.find_all(\"span\")\n",
    "    if len(result) == 3:\n",
    "        sets_mandante.append(int(result[0].string))\n",
    "        sets_visitante.append(int(result[2].string))\n",
    "    else:\n",
    "        sets_mandante.append(None)\n",
    "        sets_visitante.append(None)"
   ]
  },
  {
   "cell_type": "markdown",
   "metadata": {},
   "source": [
    "### Gerando rodada e turno"
   ]
  },
  {
   "cell_type": "code",
   "execution_count": 203,
   "metadata": {},
   "outputs": [],
   "source": [
    "rodada = []\n",
    "turno = []\n",
    "\n",
    "t = 1\n",
    "rt = 0\n",
    "rq = 0\n",
    "rs = 0\n",
    "\n",
    "\n",
    "for i in range(153):\n",
    "    \n",
    "    if i < 132:\n",
    "        if i%6==0:\n",
    "            t = t*(-1)\n",
    "        if t > 0:\n",
    "            turno.append('Primeiro Turno')\n",
    "        else:\n",
    "            turno.append('Segundo Turno')\n",
    "            \n",
    "        \n",
    "        if i%12 == 0:\n",
    "            rt = rt+1\n",
    "        rodada.append(rt)\n",
    "        \n",
    "    elif i < 144:\n",
    "        turno.append('quartas')\n",
    "        if i%4 == 0:\n",
    "            rq = rq+1\n",
    "        rodada.append(rq)\n",
    "        \n",
    "    elif i < 150:\n",
    "        turno.append('semis')\n",
    "        if i%2==0:\n",
    "            rs=rs+1\n",
    "        rodada.append(rs)\n",
    "    \n",
    "    else:\n",
    "        turno.append('finais')\n",
    "        rodada.append(i-149)"
   ]
  },
  {
   "cell_type": "code",
   "execution_count": 204,
   "metadata": {},
   "outputs": [
    {
     "data": {
      "text/plain": [
       "['Segundo Turno',\n",
       " 'Segundo Turno',\n",
       " 'Segundo Turno',\n",
       " 'Segundo Turno',\n",
       " 'Segundo Turno',\n",
       " 'Segundo Turno',\n",
       " 'Primeiro Turno',\n",
       " 'Primeiro Turno',\n",
       " 'Primeiro Turno',\n",
       " 'Primeiro Turno',\n",
       " 'Primeiro Turno',\n",
       " 'Primeiro Turno',\n",
       " 'Segundo Turno',\n",
       " 'Segundo Turno',\n",
       " 'Segundo Turno',\n",
       " 'Segundo Turno',\n",
       " 'Segundo Turno',\n",
       " 'Segundo Turno',\n",
       " 'Primeiro Turno',\n",
       " 'Primeiro Turno',\n",
       " 'Primeiro Turno',\n",
       " 'Primeiro Turno',\n",
       " 'Primeiro Turno',\n",
       " 'Primeiro Turno',\n",
       " 'Segundo Turno',\n",
       " 'Segundo Turno',\n",
       " 'Segundo Turno',\n",
       " 'Segundo Turno',\n",
       " 'Segundo Turno',\n",
       " 'Segundo Turno',\n",
       " 'Primeiro Turno',\n",
       " 'Primeiro Turno',\n",
       " 'Primeiro Turno',\n",
       " 'Primeiro Turno',\n",
       " 'Primeiro Turno',\n",
       " 'Primeiro Turno',\n",
       " 'Segundo Turno',\n",
       " 'Segundo Turno',\n",
       " 'Segundo Turno',\n",
       " 'Segundo Turno',\n",
       " 'Segundo Turno',\n",
       " 'Segundo Turno',\n",
       " 'Primeiro Turno',\n",
       " 'Primeiro Turno',\n",
       " 'Primeiro Turno',\n",
       " 'Primeiro Turno',\n",
       " 'Primeiro Turno',\n",
       " 'Primeiro Turno',\n",
       " 'Segundo Turno',\n",
       " 'Segundo Turno',\n",
       " 'Segundo Turno',\n",
       " 'Segundo Turno',\n",
       " 'Segundo Turno',\n",
       " 'Segundo Turno',\n",
       " 'Primeiro Turno',\n",
       " 'Primeiro Turno',\n",
       " 'Primeiro Turno',\n",
       " 'Primeiro Turno',\n",
       " 'Primeiro Turno',\n",
       " 'Primeiro Turno',\n",
       " 'Segundo Turno',\n",
       " 'Segundo Turno',\n",
       " 'Segundo Turno',\n",
       " 'Segundo Turno',\n",
       " 'Segundo Turno',\n",
       " 'Segundo Turno',\n",
       " 'Primeiro Turno',\n",
       " 'Primeiro Turno',\n",
       " 'Primeiro Turno',\n",
       " 'Primeiro Turno',\n",
       " 'Primeiro Turno',\n",
       " 'Primeiro Turno',\n",
       " 'Segundo Turno',\n",
       " 'Segundo Turno',\n",
       " 'Segundo Turno',\n",
       " 'Segundo Turno',\n",
       " 'Segundo Turno',\n",
       " 'Segundo Turno',\n",
       " 'Primeiro Turno',\n",
       " 'Primeiro Turno',\n",
       " 'Primeiro Turno',\n",
       " 'Primeiro Turno',\n",
       " 'Primeiro Turno',\n",
       " 'Primeiro Turno',\n",
       " 'Segundo Turno',\n",
       " 'Segundo Turno',\n",
       " 'Segundo Turno',\n",
       " 'Segundo Turno',\n",
       " 'Segundo Turno',\n",
       " 'Segundo Turno',\n",
       " 'Primeiro Turno',\n",
       " 'Primeiro Turno',\n",
       " 'Primeiro Turno',\n",
       " 'Primeiro Turno',\n",
       " 'Primeiro Turno',\n",
       " 'Primeiro Turno',\n",
       " 'Segundo Turno',\n",
       " 'Segundo Turno',\n",
       " 'Segundo Turno',\n",
       " 'Segundo Turno',\n",
       " 'Segundo Turno',\n",
       " 'Segundo Turno',\n",
       " 'Primeiro Turno',\n",
       " 'Primeiro Turno',\n",
       " 'Primeiro Turno',\n",
       " 'Primeiro Turno',\n",
       " 'Primeiro Turno',\n",
       " 'Primeiro Turno',\n",
       " 'Segundo Turno',\n",
       " 'Segundo Turno',\n",
       " 'Segundo Turno',\n",
       " 'Segundo Turno',\n",
       " 'Segundo Turno',\n",
       " 'Segundo Turno',\n",
       " 'Primeiro Turno',\n",
       " 'Primeiro Turno',\n",
       " 'Primeiro Turno',\n",
       " 'Primeiro Turno',\n",
       " 'Primeiro Turno',\n",
       " 'Primeiro Turno',\n",
       " 'Segundo Turno',\n",
       " 'Segundo Turno',\n",
       " 'Segundo Turno',\n",
       " 'Segundo Turno',\n",
       " 'Segundo Turno',\n",
       " 'Segundo Turno',\n",
       " 'Primeiro Turno',\n",
       " 'Primeiro Turno',\n",
       " 'Primeiro Turno',\n",
       " 'Primeiro Turno',\n",
       " 'Primeiro Turno',\n",
       " 'Primeiro Turno',\n",
       " 'quartas',\n",
       " 'quartas',\n",
       " 'quartas',\n",
       " 'quartas',\n",
       " 'quartas',\n",
       " 'quartas',\n",
       " 'quartas',\n",
       " 'quartas',\n",
       " 'quartas',\n",
       " 'quartas',\n",
       " 'quartas',\n",
       " 'quartas',\n",
       " 'semis',\n",
       " 'semis',\n",
       " 'semis',\n",
       " 'semis',\n",
       " 'semis',\n",
       " 'semis',\n",
       " 'finais',\n",
       " 'finais',\n",
       " 'finais']"
      ]
     },
     "execution_count": 204,
     "metadata": {},
     "output_type": "execute_result"
    }
   ],
   "source": [
    "turno"
   ]
  },
  {
   "cell_type": "markdown",
   "metadata": {},
   "source": [
    "### Reunindo todos os dados em um dataframe do Pandas"
   ]
  },
  {
   "cell_type": "code",
   "execution_count": 152,
   "metadata": {},
   "outputs": [],
   "source": [
    "import pandas as pd"
   ]
  },
  {
   "cell_type": "code",
   "execution_count": 205,
   "metadata": {},
   "outputs": [],
   "source": [
    "df = pd.DataFrame({\n",
    "    'id_jogo': ids,\n",
    "    'data_jogo': datas,\n",
    "    'local_jogo': local,\n",
    "    'mandante': mandante,\n",
    "    'sets_mandante': sets_mandante,\n",
    "    'sets_visitante': sets_visitante,\n",
    "    'visitante': visitante,\n",
    "    'rodada': rodada,\n",
    "    'turno': turno,\n",
    "})"
   ]
  },
  {
   "cell_type": "code",
   "execution_count": 208,
   "metadata": {},
   "outputs": [],
   "source": [
    "df = df.sort_values(by=['turno', 'rodada'])"
   ]
  },
  {
   "cell_type": "markdown",
   "metadata": {},
   "source": [
    "### Função Scrapper"
   ]
  },
  {
   "cell_type": "code",
   "execution_count": null,
   "metadata": {},
   "outputs": [],
   "source": [
    "# Importando os pacotes necessários\n",
    "from urllib import request\n",
    "from bs4 import BeautifulSoup\n",
    "import pandas as pd"
   ]
  },
  {
   "cell_type": "code",
   "execution_count": 222,
   "metadata": {},
   "outputs": [],
   "source": [
    "def scrapper_tabela_jogos(url):\n",
    "    \n",
    "    # Coletando a página\n",
    "    with request.urlopen(url) as website:\n",
    "        page = website.read()\n",
    "\n",
    "    soup = BeautifulSoup(page, 'html.parser')\n",
    "    \n",
    "    # Coletando dados\n",
    "    rows_data_local = soup.find_all('div', class_=\"t-col t-col-2 t-col-xs-3 t-col-sm-3 t-hidden-xs t-hidden-sm t-hidden-md Calendar_DIV_Column\")\n",
    "    rows_times = soup.find_all('div', class_=\"t-col t-col-2 t-col-sm-3 t-col-md-2 t-hidden-xs Calendar_DIV_Column\")\n",
    "    rows_placar = soup.find_all('div', class_=\"t-col t-col-1 t-col-xs-4 t-col-sm-3 t-col-md-2 Calendar_DIV_Column\")\n",
    "    \n",
    "    # Coletando os IDs dos jogos\n",
    "    ids = []\n",
    "\n",
    "    for row in rows_data_local:\n",
    "        result = row.find_all('p', class_='Calendar_p_TextRow Calendar_p_TextRow_Italic')\n",
    "        id_jogo = str(result[0]).split('MatchStatistics.aspx?mID=')[1].split('&')[0]\n",
    "        ids.append(int(id_jogo))\n",
    "        \n",
    "    \n",
    "    \n",
    "    # Coletando todos as datas e locais e armazenando em listas\n",
    "    datas = []\n",
    "    local = []\n",
    "\n",
    "    for row in rows_data_local:\n",
    "        result = row.find_all('span')\n",
    "        datas.append(result[0].string)\n",
    "        local.append(result[1].string)\n",
    "\n",
    "        \n",
    "    # Coletando os jogos \n",
    "    mandante = []\n",
    "    visitante = []\n",
    "\n",
    "    for index in range(len(rows_times)):\n",
    "        time = rows_times[index].find_all('span')\n",
    "        if index%2 == 0:\n",
    "            mandante.append(time[0].string)\n",
    "        else:\n",
    "            visitante.append(time[0].string)\n",
    "\n",
    "\n",
    "    # Coletando os placares\n",
    "    sets_mandante = []\n",
    "    sets_visitante = []\n",
    "\n",
    "    for row in rows_placar:\n",
    "        result = row.find_all(\"span\")\n",
    "        if len(result) == 3:\n",
    "            sets_mandante.append(int(result[0].string))\n",
    "            sets_visitante.append(int(result[2].string))\n",
    "        else:\n",
    "            sets_mandante.append(None)\n",
    "            sets_visitante.append(None)\n",
    "    \n",
    "    \n",
    "    # Gerando Rodada e Turnos\n",
    "    rodada = []\n",
    "    turno = []\n",
    "\n",
    "    t = 1\n",
    "    rt = 0\n",
    "    rq = 0\n",
    "    rs = 0\n",
    "\n",
    "\n",
    "    for i in range(153):\n",
    "\n",
    "        if i < 132:\n",
    "            if i%6==0:\n",
    "                t = t*(-1)\n",
    "            if t > 0:\n",
    "                turno.append('Primeiro Turno')\n",
    "            else:\n",
    "                turno.append('Segundo Turno')\n",
    "\n",
    "\n",
    "            if i%12 == 0:\n",
    "                rt = rt+1\n",
    "            rodada.append(rt)\n",
    "\n",
    "        elif i < 144:\n",
    "            turno.append('quartas')\n",
    "            if i%4 == 0:\n",
    "                rq = rq+1\n",
    "            rodada.append(rq)\n",
    "\n",
    "        elif i < 150:\n",
    "            turno.append('semis')\n",
    "            if i%2==0:\n",
    "                rs=rs+1\n",
    "            rodada.append(rs)\n",
    "\n",
    "        else:\n",
    "            turno.append('finais')\n",
    "            rodada.append(i-149)\n",
    "        \n",
    "        \n",
    "    # Criando DataFrame do Pandas os dados\n",
    "    df = pd.DataFrame({\n",
    "        'id_jogo': ids,\n",
    "        'data_jogo': datas,\n",
    "        'local_jogo': local,\n",
    "        'mandante': mandante,\n",
    "        'sets_mandante': sets_mandante,\n",
    "        'sets_visitante': sets_visitante,\n",
    "        'visitante': visitante,\n",
    "        'rodada': rodada,\n",
    "        'turno': turno,\n",
    "    })\n",
    "    \n",
    "    df = df.sort_values(by=['turno', 'rodada'])\n",
    "    return df\n",
    "    "
   ]
  },
  {
   "cell_type": "code",
   "execution_count": 226,
   "metadata": {},
   "outputs": [],
   "source": [
    "data = scrapper_tabela_jogos('http://cbv-web.dataproject.com/CompetitionMatches.aspx?ID=6')"
   ]
  },
  {
   "cell_type": "code",
   "execution_count": 227,
   "metadata": {},
   "outputs": [
    {
     "data": {
      "text/html": [
       "<div>\n",
       "<style scoped>\n",
       "    .dataframe tbody tr th:only-of-type {\n",
       "        vertical-align: middle;\n",
       "    }\n",
       "\n",
       "    .dataframe tbody tr th {\n",
       "        vertical-align: top;\n",
       "    }\n",
       "\n",
       "    .dataframe thead th {\n",
       "        text-align: right;\n",
       "    }\n",
       "</style>\n",
       "<table border=\"1\" class=\"dataframe\">\n",
       "  <thead>\n",
       "    <tr style=\"text-align: right;\">\n",
       "      <th></th>\n",
       "      <th>id_jogo</th>\n",
       "      <th>data_jogo</th>\n",
       "      <th>local_jogo</th>\n",
       "      <th>mandante</th>\n",
       "      <th>sets_mandante</th>\n",
       "      <th>sets_visitante</th>\n",
       "      <th>visitante</th>\n",
       "      <th>rodada</th>\n",
       "      <th>turno</th>\n",
       "    </tr>\n",
       "  </thead>\n",
       "  <tbody>\n",
       "    <tr>\n",
       "      <th>6</th>\n",
       "      <td>395</td>\n",
       "      <td>16/11/2018 - 19:30</td>\n",
       "      <td>PANELA DE PRESSAO</td>\n",
       "      <td>SESI VOLEI BAURU</td>\n",
       "      <td>3.0</td>\n",
       "      <td>0.0</td>\n",
       "      <td>HINODE BARUERI</td>\n",
       "      <td>1</td>\n",
       "      <td>Primeiro Turno</td>\n",
       "    </tr>\n",
       "    <tr>\n",
       "      <th>7</th>\n",
       "      <td>396</td>\n",
       "      <td>16/11/2018 - 20:00</td>\n",
       "      <td>HENRIQUE VILLABOIM</td>\n",
       "      <td>ESPORTE CLUBE PINHEIROS</td>\n",
       "      <td>3.0</td>\n",
       "      <td>1.0</td>\n",
       "      <td>FLUMINENSE F.C.</td>\n",
       "      <td>1</td>\n",
       "      <td>Primeiro Turno</td>\n",
       "    </tr>\n",
       "    <tr>\n",
       "      <th>8</th>\n",
       "      <td>397</td>\n",
       "      <td>16/11/2018 - 20:00</td>\n",
       "      <td>GINASIO HAMILTON LINHARES CRUZ</td>\n",
       "      <td>VOLEI BALNEARIO CAMBORIU</td>\n",
       "      <td>0.0</td>\n",
       "      <td>3.0</td>\n",
       "      <td>DENTIL/PRAIA CLUBE</td>\n",
       "      <td>1</td>\n",
       "      <td>Primeiro Turno</td>\n",
       "    </tr>\n",
       "    <tr>\n",
       "      <th>9</th>\n",
       "      <td>398</td>\n",
       "      <td>16/11/2018 - 20:00</td>\n",
       "      <td>SESI TAQUATINGA</td>\n",
       "      <td>BRB/BRASILIA VOLEI</td>\n",
       "      <td>1.0</td>\n",
       "      <td>3.0</td>\n",
       "      <td>MINAS TENIS CLUBE</td>\n",
       "      <td>1</td>\n",
       "      <td>Primeiro Turno</td>\n",
       "    </tr>\n",
       "    <tr>\n",
       "      <th>10</th>\n",
       "      <td>399</td>\n",
       "      <td>16/11/2018 - 20:00</td>\n",
       "      <td>COMPLEXO POLIESPORTIVO LAURO GOMES</td>\n",
       "      <td>SAO CRISTOVAO SAUDE SAO CAETANO</td>\n",
       "      <td>1.0</td>\n",
       "      <td>3.0</td>\n",
       "      <td>OSASCO VOLEIBOL CLUBE/AUDAX</td>\n",
       "      <td>1</td>\n",
       "      <td>Primeiro Turno</td>\n",
       "    </tr>\n",
       "  </tbody>\n",
       "</table>\n",
       "</div>"
      ],
      "text/plain": [
       "    id_jogo           data_jogo                          local_jogo  \\\n",
       "6       395  16/11/2018 - 19:30                   PANELA DE PRESSAO   \n",
       "7       396  16/11/2018 - 20:00                  HENRIQUE VILLABOIM   \n",
       "8       397  16/11/2018 - 20:00     GINASIO HAMILTON LINHARES CRUZ    \n",
       "9       398  16/11/2018 - 20:00                     SESI TAQUATINGA   \n",
       "10      399  16/11/2018 - 20:00  COMPLEXO POLIESPORTIVO LAURO GOMES   \n",
       "\n",
       "                           mandante  sets_mandante  sets_visitante  \\\n",
       "6                  SESI VOLEI BAURU            3.0             0.0   \n",
       "7           ESPORTE CLUBE PINHEIROS            3.0             1.0   \n",
       "8          VOLEI BALNEARIO CAMBORIU            0.0             3.0   \n",
       "9                BRB/BRASILIA VOLEI            1.0             3.0   \n",
       "10  SAO CRISTOVAO SAUDE SAO CAETANO            1.0             3.0   \n",
       "\n",
       "                      visitante  rodada           turno  \n",
       "6                HINODE BARUERI       1  Primeiro Turno  \n",
       "7               FLUMINENSE F.C.       1  Primeiro Turno  \n",
       "8            DENTIL/PRAIA CLUBE       1  Primeiro Turno  \n",
       "9             MINAS TENIS CLUBE       1  Primeiro Turno  \n",
       "10  OSASCO VOLEIBOL CLUBE/AUDAX       1  Primeiro Turno  "
      ]
     },
     "execution_count": 227,
     "metadata": {},
     "output_type": "execute_result"
    }
   ],
   "source": [
    "data.head()"
   ]
  }
 ],
 "metadata": {
  "kernelspec": {
   "display_name": "Python 3",
   "language": "python",
   "name": "python3"
  },
  "language_info": {
   "codemirror_mode": {
    "name": "ipython",
    "version": 3
   },
   "file_extension": ".py",
   "mimetype": "text/x-python",
   "name": "python",
   "nbconvert_exporter": "python",
   "pygments_lexer": "ipython3",
   "version": "3.8.3"
  }
 },
 "nbformat": 4,
 "nbformat_minor": 4
}
